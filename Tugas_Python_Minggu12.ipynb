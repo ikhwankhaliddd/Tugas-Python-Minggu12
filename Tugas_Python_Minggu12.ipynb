{
  "nbformat": 4,
  "nbformat_minor": 0,
  "metadata": {
    "colab": {
      "name": "Tugas_Python_Minggu12.ipynb",
      "provenance": []
    },
    "kernelspec": {
      "name": "python3",
      "display_name": "Python 3"
    }
  },
  "cells": [
    {
      "cell_type": "markdown",
      "metadata": {
        "id": "_g2o_MvnCGmo"
      },
      "source": [
        "Nama : Muhammad Ikhwan Khalid Nst(1101180479)"
      ]
    },
    {
      "cell_type": "code",
      "metadata": {
        "id": "TAEkEy54ByVF"
      },
      "source": [
        "import numpy as np"
      ],
      "execution_count": 1,
      "outputs": []
    },
    {
      "cell_type": "code",
      "metadata": {
        "id": "SvmnPf24B5B4"
      },
      "source": [
        "def ploss(fc, ht, d, area, hg) :\r\n",
        "\r\n",
        "  #nilai c1 & c2\r\n",
        "  if fc >= 400000 and fc <= 1500000:\r\n",
        "    c1 = 69.55\r\n",
        "    c2 = 26.16\r\n",
        "  elif fc > 1500000 and fc <= 2000000:\r\n",
        "    c1 = 46.3\r\n",
        "    c2 = 33.9\r\n",
        "  \r\n",
        "  #nilai cm\r\n",
        "  if area == \"urban\":\r\n",
        "    cm = 0\r\n",
        "  elif area == \"suburb\":\r\n",
        "    cm = -2*(np.log10(fc/28))**2 - 5.4\r\n",
        "  elif area == \"open\":\r\n",
        "    cm = -4.78*(np.log10(fc))**2 + (18.33*np.log10(fc)) - 40.94\r\n",
        "\r\n",
        " \r\n",
        "  ahg = ((1.1*np.log10(fc)) - 0.7)*(hg) - ((1.56*np.log10(fc)) - 0.8)\r\n",
        "  Lp = c1 + c2*np.log10(fc) - 13.83*np.log10(ht) - (ahg) + (44.9 - 6.55*np.log10(ht))*np.log10(d) + cm\r\n",
        "  return Lp"
      ],
      "execution_count": 2,
      "outputs": []
    },
    {
      "cell_type": "code",
      "metadata": {
        "colab": {
          "base_uri": "https://localhost:8080/"
        },
        "id": "YIXCA4bVCABo",
        "outputId": "6db39cb8-d5ee-4b0c-a009-eae7f2f3b197"
      },
      "source": [
        "PL = ploss(400000, 300, 5, \"suburb\", 10)\r\n",
        "print(\"pathloss: \", PL, \"dB\")"
      ],
      "execution_count": 3,
      "outputs": [
        {
          "output_type": "stream",
          "text": [
            "pathloss:  115.27429957803389 dB\n"
          ],
          "name": "stdout"
        }
      ]
    }
  ]
}